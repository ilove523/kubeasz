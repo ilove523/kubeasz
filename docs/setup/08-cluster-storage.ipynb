{
 "cells": [
  {
   "cell_type": "markdown",
   "metadata": {},
   "source": [
    "# K8S 集群存储 \n",
    "\n",
    "## 前言\n",
    "在kubernetes(k8s)中对于存储的资源抽象了两个概念，分别是PersistentVolume(PV)、PersistentVolumeClaim(PVC)。\n",
    "- PV是集群中的资源\n",
    "- PVC是对这些资源的请求。\n",
    "如上面所说PV和PVC都只是抽象的概念，在k8s中是通过插件的方式提供具体的存储实现。目前包含有NFS、iSCSI和云提供商指定的存储系统，更多的存储实现[参考官方文档](https://kubernetes.io/docs/concepts/storage/persistent-volumes/#access-modes)。\n",
    "\n",
    "这里PV又有两种提供方式: 静态或者动态。\n",
    "本篇以介绍 **NFS存储** 为例，讲解k8s\n",
    "众多存储方案中的一个实现。\n",
    "\n",
    "## 静态 PV\n",
    "首先我们需要一个NFS服务器，用于提供底层存储。通过文档[nfs-server](../guide/nfs-server.md)，我们可以创建一个NFS服务器。\n",
    "\n",
    "- 创建静态\n",
    "pv，指定容量，访问模式，回收策略，存储类等；参考[这里](https://github.com/feiskyer/kubernetes-handbook/blob/master/zh/concepts/persistent-volume.md)"
   ]
  },
  {
   "cell_type": "code",
   "execution_count": null,
   "metadata": {},
   "outputs": [],
   "source": [
    "apiVersion: v1\n",
    "kind: PersistentVolume\n",
    "metadata:\n",
    "  name: pv-es-0\n",
    "spec:\n",
    "  capacity:\n",
    "    storage: 4Gi\n",
    "  accessModes:\n",
    "    - ReadWriteMany\n",
    "  volumeMode: Filesystem\n",
    "  persistentVolumeReclaimPolicy: Recycle\n",
    "  storageClassName: \"es-storage-class\"\n",
    "  nfs:\n",
    "    # 根据实际共享目录修改\n",
    "    path: /home/share/es0\n",
    "    # 根据实际 nfs服务器地址修改\n",
    "    server: 192.168.20.201"
   ]
  },
  {
   "cell_type": "markdown",
   "metadata": {},
   "source": [
    "- 创建 pvc即可绑定使用上述 pv了，具体请看后文 test pod例子\n",
    "\n",
    "## 创建动态PV\n",
    "\n",
    "在一个工作k8s集群中，`PVC`请求会很多，如果每次都需要管理员手动去创建对应的 `PV`资源，那就很不方便；因此 K8S还提供了多种 `provisioner`来动态创建`PV`，不仅节省了管理员的时间，还可以根据`StorageClasses`封装不同类型的存储供 PVC 选用。\n",
    "\n",
    "项目中的 `role: cluster-storage`目前支持自建 nfs 和 aliyun_nas 的动态`provisioner`\n",
    "\n",
    "- 1.编辑自定义配置文件：roles/cluster-storage/defaults/main.yml"
   ]
  },
  {
   "cell_type": "code",
   "execution_count": null,
   "metadata": {},
   "outputs": [],
   "source": [
    "# 比如创建nfs provisioner\n",
    "storage:\n",
    "  nfs:\n",
    "    enabled: \"yes\"\n",
    "    server: \"192.168.20.201\"\n",
    "    server_path: \"/home/share\"\n",
    "    storage_class: \"class-nfs-01\"\n",
    "    provisioner_name: \"nfs-provisioner-01\""
   ]
  },
  {
   "cell_type": "markdown",
   "metadata": {},
   "source": [
    "- 2.创建 nfs provisioner"
   ]
  },
  {
   "cell_type": "code",
   "execution_count": null,
   "metadata": {},
   "outputs": [],
   "source": [
    "$ ansible-playbook /etc/ansible/roles/cluster-storage/cluster-storage.yml\n",
    "# 执行成功后验证\n",
    "$ kubectl get pod --all-namespaces |grep nfs-prov\n",
    "kube-system   nfs-provisioner-01-6b7fbbf9d4-bh8lh        1/1       Running   0          1d"
   ]
  },
  {
   "cell_type": "markdown",
   "metadata": {},
   "source": [
    "**注意** k8s集群可以使用多个nfs provisioner，重复上述步骤1、2：修改使用不同的`nfs server`\n",
    "`nfs_storage_class` `nfs_provisioner_name`后执行创建即可。\n",
    "\n",
    "## 验证使用动态 PV\n",
    "切换到项目`manifests/storage`目录，编辑`test.yaml`文件，根据前文配置情况修改`storageClassName`即可；然后执行以下命令进行创建："
   ]
  },
  {
   "cell_type": "code",
   "execution_count": null,
   "metadata": {},
   "outputs": [],
   "source": [
    "$ kubectl apply -f test.yaml\n",
    "\n",
    "# 验证测试pod\n",
    "$ kubectl get pod --all-namespaces |grep test\n",
    "default       test                                       1/1       Running   0          1m\n",
    "\n",
    "# 验证自动创建的pv 资源，\n",
    "$ kubectl get pv\n",
    "NAME                                       CAPACITY   ACCESS MODES   RECLAIM POLICY   STATUS    CLAIM                STORAGECLASS           REASON    AGE\n",
    "pvc-8f1b4ced-92d2-11e8-a41f-5254008ec7c0   1Mi        RWX            Delete           Bound     default/test-claim   nfs-dynamic-class-01             3m\n",
    "\n",
    "# 验证PVC已经绑定成功：STATUS字段为 Bound\n",
    "$ kubectl get pvc\n",
    "NAME         STATUS    VOLUME                                     CAPACITY   ACCESS MODES   STORAGECLASS           AGE\n",
    "test-claim   Bound     pvc-8f1b4ced-92d2-11e8-a41f-5254008ec7c0   1Mi        RWX            nfs-dynamic-class-01   3m"
   ]
  },
  {
   "cell_type": "markdown",
   "metadata": {},
   "source": [
    "另外，Pod启动完成后，在挂载的目录中创建一个`SUCCESS`文件。我们可以到NFS服务器去看下："
   ]
  },
  {
   "cell_type": "code",
   "execution_count": null,
   "metadata": {},
   "outputs": [],
   "source": [
    ".\n",
    "└── default-test-claim-pvc-a877172b-5f49-11e8-b675-d8cb8ae6325a\n",
    "    └── SUCCESS"
   ]
  },
  {
   "cell_type": "markdown",
   "metadata": {},
   "source": [
    "如上，可以发现挂载的时候，nfs-client根据PVC自动创建了一个目录，我们Pod中挂载的`/mnt`，实际引用的就是该目录，而我们在`/mnt`下创建的`SUCCESS`文件，也自动写入到了这里。"
   ]
  },
  {
   "cell_type": "markdown",
   "metadata": {},
   "source": [
    "# 后续\n",
    "后面当我们需要为上层应用提供持久化存储时，只需要提供`StorageClass`即可。很多应用都会根据`StorageClass`来创建他们的所需的PVC,\n",
    "最后再把PVC挂载到他们的Deployment或StatefulSet中使用，比如：efk、jenkins等"
   ]
  }
 ],
 "metadata": {
  "kernelspec": {
   "display_name": "Python 3",
   "language": "python",
   "name": "python3"
  },
  "language_info": {
   "codemirror_mode": {
    "name": "ipython",
    "version": 3
   },
   "file_extension": ".py",
   "mimetype": "text/x-python",
   "name": "python",
   "nbconvert_exporter": "python",
   "pygments_lexer": "ipython3",
   "version": "3.6.8"
  },
  "latex_envs": {
   "LaTeX_envs_menu_present": true,
   "autoclose": true,
   "autocomplete": true,
   "bibliofile": "biblio.bib",
   "cite_by": "apalike",
   "current_citInitial": 1,
   "eqLabelWithNumbers": true,
   "eqNumInitial": 1,
   "hotkeys": {
    "equation": "Ctrl-E",
    "itemize": "Ctrl-I"
   },
   "labels_anchors": false,
   "latex_user_defs": false,
   "report_style_numbering": false,
   "user_envs_cfg": false
  },
  "toc": {
   "base_numbering": 1,
   "nav_menu": {},
   "number_sections": true,
   "sideBar": true,
   "skip_h1_title": false,
   "title_cell": "Table of Contents",
   "title_sidebar": "Contents",
   "toc_cell": false,
   "toc_position": {},
   "toc_section_display": true,
   "toc_window_display": false
  }
 },
 "nbformat": 4,
 "nbformat_minor": 2
}
