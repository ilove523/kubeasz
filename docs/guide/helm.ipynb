{
 "cells": [
  {
   "cell_type": "markdown",
   "metadata": {},
   "source": [
    "# Helm\n",
    "\n",
    "`Helm`致力于成为k8s集群的应用包管理工具，希望像linux 系统的`RPM`\n",
    "`DPKG`那样成功；确实在k8s上部署复杂一点的应用很麻烦，需要管理很多yaml文件（configmap,controller,service,rbac,pv,pvc等等），而helm能够整齐管理这些文档：版本控制，参数化安装，方便的打包与分享等。\n",
    "-\n",
    "建议积累一定k8s经验以后再去使用helm；对于初学者来说手工去配置那些yaml文件对于快速学习k8s的设计理念和运行原理非常有帮助，而不是直接去使用helm，面对又一层封装与复杂度。\n",
    "- 本文参考 helm 官网安全实践启用 TLS 认证，参考 https://docs.helm.sh/using_helm/#securing-your-\n",
    "helm-installation \n",
    "\n",
    "## 安全安装 helm（在线）\n",
    "\n",
    "以下步骤以 helm/tiller 版本 v2.14.1\n",
    "为例，在helm客户端和tiller服务器间建立安全的SSL/TLS认证机制；tiller服务器和helm客户端都是使用同一CA签发的`client\n",
    "cert`，然后互相识别对方身份。建议通过本项目提供的`ansible role`安装，符合官网上介绍的安全加固措施，在ansible控制端运行:"
   ]
  },
  {
   "cell_type": "code",
   "execution_count": null,
   "metadata": {},
   "outputs": [],
   "source": [
    "# 1.配置默认helm参数 \n",
    "$ vi  /etc/ansible/roles/helm/defaults/main.yml\n",
    "# 2.执行安装\n",
    "$ ansible-playbook /etc/ansible/roles/helm/helm.yml"
   ]
  },
  {
   "cell_type": "markdown",
   "metadata": {},
   "source": [
    "> 注意：默认仅在第一个master节点初始化helm客户端，如果需要在其他节点初始化helm客户端，请修改 roles/helm/helm.yml 文件的 hosts 定义，然后再次执行`ansible-playbook /etc/ansible/roles/helm/helm.yml`即可\n",
    "\n",
    "简单介绍下`/roles/helm/tasks/main.yml`中的步骤\n",
    "\n",
    "- 1-下载最新release的helm客户端到/etc/ansible/bin目录下\n",
    "- 2-由集群CA签发helm客户端证书和私钥\n",
    "- 3-由集群CA签发tiller服务端证书和私钥\n",
    "- 4-创建tiller专用的RBAC配置，只允许helm在指定的namespace查看和安装应用\n",
    "- 5-安全安装tiller到集群，tiller服务启用tls验证\n",
    "- 6-配置helm客户端使用tls方式与tiller服务端通讯"
   ]
  },
  {
   "cell_type": "markdown",
   "metadata": {},
   "source": [
    "## 安全安装 helm（离线）\n",
    "在内网环境中，由于不能访问互联网，无法连接repo地址，使用上述的在线安装helm的方式会报错。因此需要使用离线安装的方法来安装。"
   ]
  },
  {
   "cell_type": "markdown",
   "metadata": {},
   "source": [
    "离线安装步骤：\n",
    "```bash\n",
    "# 1.创建本地repo\n",
    "mkdir -p /opt/helm-repo\n",
    "\n",
    "# 2.启动helm repo server,如果要其他服务器访问，改为本地IP\n",
    "nohup helm serve --address 127.0.0.1:8879 --repo-path /opt/helm-repo &\n",
    "\n",
    "# 3.更改helm 配置文件，将/etc/ansible/role/helm/default/main.yml中repo的地址改为 http://127.0.0.1:8879\n",
    "cat <<EOF >/etc/ansible/role/helm/default/main.yml\n",
    "helm_namespace: kube-system \n",
    "helm_cert_cn: helm001\n",
    "tiller_sa: tiller\n",
    "tiller_cert_cn: tiller001\n",
    "tiller_image: jmgao1983/tiller:v2.9.1\n",
    "#repo_url: https://kubernetes-charts.storage.googleapis.com\n",
    "repo_url: http://127.0.0.1:8879\n",
    "# 如果默认官方repo 网络访问不稳定可以使用如下的阿里云镜像repo\n",
    "#repo_url: https://kubernetes.oss-cn-hangzhou.aliyuncs.com/charts\n",
    "EOF\n",
    "\n",
    "# 4.运行安全helm命令\n",
    "ansible-playbook /etc/ansible/role/helm/helm.yml \n",
    "```"
   ]
  },
  {
   "cell_type": "markdown",
   "metadata": {},
   "source": [
    "## 安装检查\n",
    "\n",
    "输入指令："
   ]
  },
  {
   "cell_type": "code",
   "execution_count": null,
   "metadata": {},
   "outputs": [],
   "source": [
    "kubectl get pod -n kube-system -l app=helm"
   ]
  },
  {
   "cell_type": "markdown",
   "metadata": {},
   "source": [
    "输出结果："
   ]
  },
  {
   "cell_type": "code",
   "execution_count": null,
   "metadata": {},
   "outputs": [],
   "source": [
    "NAME                             READY   STATUS    RESTARTS   AGE\n",
    "tiller-deploy-78f97b6fdf-grmqk   1/1     Running   0          133m"
   ]
  },
  {
   "cell_type": "markdown",
   "metadata": {},
   "source": [
    "## 使用helm安装应用到k8s上\n",
    "\n",
    "请阅读本项目文档[helm安装prometheus监控](prometheus.md)"
   ]
  }
 ],
 "metadata": {
  "kernelspec": {
   "display_name": "Python 3",
   "language": "python",
   "name": "python3"
  },
  "language_info": {
   "codemirror_mode": {
    "name": "ipython",
    "version": 3
   },
   "file_extension": ".py",
   "mimetype": "text/x-python",
   "name": "python",
   "nbconvert_exporter": "python",
   "pygments_lexer": "ipython3",
   "version": "3.6.8"
  },
  "latex_envs": {
   "LaTeX_envs_menu_present": true,
   "autoclose": true,
   "autocomplete": true,
   "bibliofile": "biblio.bib",
   "cite_by": "apalike",
   "current_citInitial": 1,
   "eqLabelWithNumbers": true,
   "eqNumInitial": 1,
   "hotkeys": {
    "equation": "Ctrl-E",
    "itemize": "Ctrl-I"
   },
   "labels_anchors": false,
   "latex_user_defs": false,
   "report_style_numbering": false,
   "user_envs_cfg": false
  },
  "toc": {
   "base_numbering": 1,
   "nav_menu": {},
   "number_sections": true,
   "sideBar": true,
   "skip_h1_title": false,
   "title_cell": "Table of Contents",
   "title_sidebar": "Contents",
   "toc_cell": false,
   "toc_position": {},
   "toc_section_display": true,
   "toc_window_display": false
  }
 },
 "nbformat": 4,
 "nbformat_minor": 2
}
