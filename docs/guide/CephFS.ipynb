{
 "cells": [
  {
   "cell_type": "markdown",
   "metadata": {},
   "source": [
    "# ceph-ansible安装ceph\n",
    "\n",
    "参考：https://blog.csdn.net/junming_zhao/article/details/87160900"
   ]
  },
  {
   "cell_type": "markdown",
   "metadata": {},
   "source": [
    "## 准备工作\n",
    "\n",
    "### 准备机器\n",
    "+ 1台 ceph-deploy，需安装ansible\n",
    "    - 192.168.20.3 wfh_deploy\n",
    "+ 3台 ceph-server，安装基本服务\n",
    "    - 192.168.20.204 wfh_node04\n",
    "    - 192.168.20.205 wfh_node05\n",
    "    - 192.168.20.206 wfh_node06\n",
    "+ 1台 ceph-client，测试用\n",
    "    - 192.168.20.201 wfh_node01"
   ]
  },
  {
   "cell_type": "markdown",
   "metadata": {},
   "source": [
    "### 在 ceph-deploy 上添加主机名和IP映射\n",
    "在此主机的 /etc/hosts 上应包括类似下面的信息：\n",
    "```ini\n",
    "192.168.20.3 wfh_deploy\n",
    "192.168.20.204 wfh_node04\n",
    "192.168.20.205 wfh_node05\n",
    "192.168.20.206 wfh_node06\n",
    "```"
   ]
  },
  {
   "cell_type": "markdown",
   "metadata": {},
   "source": [
    "### 添加ssh免密码登录\n",
    "\n",
    "从 ceph-deploy 到 ceph-server 和 ceph-client 能够通过 ssh 直接登录，无需密码。\n",
    "\n",
    "+ 这里使用root用户。\n",
    "+ 具体方法（:TODO）"
   ]
  },
  {
   "cell_type": "markdown",
   "metadata": {},
   "source": [
    "### 配置时间同步服务\n",
    "本集群统一采用 chrony 代替传统 ntp 服务。"
   ]
  },
  {
   "cell_type": "markdown",
   "metadata": {},
   "source": [
    "### 添加 ceph 的 repo源，选择安装rpm-nautilus版本\n",
    "```bash\n",
    "# 添加 ceph的 aliyun源\n",
    "# [root@wfh_deploy ~]#\n",
    "\n",
    "cat > ceph-rpm-nautilus.sh<<EOF\n",
    "rpm --import https://mirrors.aliyun.com/centos/RPM-GPG-KEY-CentOS-7\n",
    "curl -o /etc/yum.repos.d/epel.repo -OL http://mirrors.aliyun.com/repo/epel-7.repo\n",
    "\n",
    "yum -y install epel-release yum-plugin-priorities \\\\\n",
    "    https://mirrors.aliyun.com/ceph/rpm-nautilus/el7/noarch/ceph-release-1-1.el7.noarch.rpm\n",
    "sed -i -e \"s/enabled=1/enabled=1\\npriority=1/g\" /etc/yum.repos.d/ceph.repo\n",
    "sed -i 's/download.ceph.com/mirrors.aliyun.com\\/ceph/g' /etc/yum.repos.d/ceph.repo\n",
    "\n",
    "yum update -y\n",
    "EOF\n",
    "\n",
    "cat > deploy-ceph-repos.sh<<EOF\n",
    "chmod +x ceph-rpm-nautilus.sh\n",
    "for num in {1,2,3,4,5,6}\n",
    "do\n",
    "    scp ceph-rpm-nautilus.sh wfh_node0\\$num:~/\n",
    "    ssh wfh_node0\\$num \"~/ceph-rpm-nautilus.sh && rm -f ~/ceph-rpm-nautilus.sh\"\n",
    "done\n",
    "rm -f ceph-rpm-nautilus.sh\n",
    "EOF\n",
    "chmod +x deploy-ceph-repos.sh\n",
    "\n",
    "./deploy-ceph-repos.sh\n",
    "```"
   ]
  },
  {
   "cell_type": "markdown",
   "metadata": {},
   "source": [
    "## 安装和配置 ansible"
   ]
  },
  {
   "cell_type": "markdown",
   "metadata": {},
   "source": [
    "### 安装 ansible\n",
    "```bash\n",
    "# for Centos7\n",
    "sudo yum install -y ansible\n",
    "```"
   ]
  },
  {
   "cell_type": "markdown",
   "metadata": {},
   "source": [
    "### 编排 hosts\n",
    "在 /etc/ansible/hosts 文件里增加下面节点\n",
    "\n",
    "```ini\n",
    "# 增加ceph服务监视节点\n",
    "[mons]\n",
    "wfh_node04\n",
    "wfh_node05\n",
    "wfh_node06\n",
    "\n",
    "# 增加ceph服务osd节点\n",
    "[osds]\n",
    "wfh_node04\n",
    "wfh_node05\n",
    "wfh_node06\n",
    "\n",
    "# 增加ceph管理节点\n",
    "[mgrs]\n",
    "wfh_node01\n",
    "wfh_node02\n",
    "```"
   ]
  },
  {
   "cell_type": "markdown",
   "metadata": {},
   "source": [
    "### 编排 group\n",
    "```bash\n",
    "#[root@wfh_deploy ceph-ansible-3.2.27]# \n",
    "cp group_vars/all.yml{.sample,}\n",
    "```"
   ]
  }
 ],
 "metadata": {
  "kernelspec": {
   "display_name": "Python 3",
   "language": "python",
   "name": "python3"
  },
  "language_info": {
   "codemirror_mode": {
    "name": "ipython",
    "version": 3
   },
   "file_extension": ".py",
   "mimetype": "text/x-python",
   "name": "python",
   "nbconvert_exporter": "python",
   "pygments_lexer": "ipython3",
   "version": "3.6.8"
  },
  "latex_envs": {
   "LaTeX_envs_menu_present": true,
   "autoclose": true,
   "autocomplete": true,
   "bibliofile": "biblio.bib",
   "cite_by": "apalike",
   "current_citInitial": 1,
   "eqLabelWithNumbers": true,
   "eqNumInitial": 1,
   "hotkeys": {
    "equation": "Ctrl-E",
    "itemize": "Ctrl-I"
   },
   "labels_anchors": false,
   "latex_user_defs": false,
   "report_style_numbering": false,
   "user_envs_cfg": false
  },
  "toc": {
   "base_numbering": 1,
   "nav_menu": {},
   "number_sections": true,
   "sideBar": true,
   "skip_h1_title": false,
   "title_cell": "Table of Contents",
   "title_sidebar": "Contents",
   "toc_cell": false,
   "toc_position": {},
   "toc_section_display": true,
   "toc_window_display": false
  }
 },
 "nbformat": 4,
 "nbformat_minor": 2
}
