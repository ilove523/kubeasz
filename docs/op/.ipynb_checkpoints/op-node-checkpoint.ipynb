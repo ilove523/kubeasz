{
 "cells": [
  {
   "cell_type": "markdown",
   "metadata": {},
   "source": [
    "# 管理 node 节点\n",
    "\n",
    "- 增加 kube-node 节点\n",
    "- 增加非标准ssh端口节点\n",
    "- 删除 kube-node 节点\n",
    "\n",
    "## 增加 kube-node 节点\n",
    "\n",
    "新增`kube-node`节点大致流程为：tools/02.addnode.yml\n",
    "- [可选]新节点安装 chrony 时间同步\n",
    "- 新节点预处理 prepare\n",
    "- 新节点安装 docker 服务\n",
    "- 新节点安装 kube-node 服务\n",
    "- 新节点安装网络插件相关\n",
    "\n",
    "### 操作步骤\n",
    "\n",
    "首先配置 ssh 免密码登陆新增节点，然后执行 (假设待增加节点为 192.168.20.206)："
   ]
  },
  {
   "cell_type": "code",
   "execution_count": null,
   "metadata": {},
   "outputs": [],
   "source": [
    "$ easzctl add-node 192.168.20.206"
   ]
  },
  {
   "cell_type": "markdown",
   "metadata": {},
   "source": [
    "### 验证"
   ]
  },
  {
   "cell_type": "code",
   "execution_count": null,
   "metadata": {},
   "outputs": [],
   "source": [
    "# 验证新节点状态\n",
    "$ kubectl get nodes\n",
    "\n",
    "# 验证新节点的网络插件calico 或flannel 的Pod 状态\n",
    "$ kubectl get pod -n kube-system\n",
    "\n",
    "# 验证新建pod能否调度到新节点，略"
   ]
  },
  {
   "cell_type": "markdown",
   "metadata": {},
   "source": [
    "## 增加非标准ssh端口节点\n",
    "\n",
    "目前 easzctl 暂不支持自动添加非标准 ssh 端口的节点，可以手动操作如下：\n",
    "\n",
    "-\n",
    "假设待添加节点192.168.2.1，ssh 端口 10022；配置免密登陆 ssh-copy-id -p 10022 192.168.2.1，按提示输入密码\n",
    "- 在 /etc/ansible/hosts文件 [kube-node] 组下添加一行："
   ]
  },
  {
   "cell_type": "code",
   "execution_count": null,
   "metadata": {},
   "outputs": [],
   "source": [
    "192.168.2.1 ansible_ssh_port=10022"
   ]
  },
  {
   "cell_type": "markdown",
   "metadata": {},
   "source": [
    "- 最后执行 `ansible-playbook /etc/ansible/tools/02.addnode.yml -e NODE_TO_ADD=192.168.2.1`"
   ]
  },
  {
   "cell_type": "markdown",
   "metadata": {},
   "source": [
    "## 删除 kube-node 节点\n",
    "\n",
    "删除 node 节点流程：tools/12.delnode.yml\n",
    "\n",
    "- 检测是否可以删除\n",
    "- 迁移节点上的 pod\n",
    "- 删除 node 相关服务及文件\n",
    "- 从集群删除 node"
   ]
  },
  {
   "cell_type": "markdown",
   "metadata": {},
   "source": [
    "### 操作步骤"
   ]
  },
  {
   "cell_type": "code",
   "execution_count": null,
   "metadata": {},
   "outputs": [],
   "source": [
    "$ easzctl del-node 192.168.20.206 # 假设待删除节点为 192.168.20.206"
   ]
  },
  {
   "cell_type": "markdown",
   "metadata": {},
   "source": [
    "### 验证\n",
    "\n",
    "略"
   ]
  }
 ],
 "metadata": {
  "kernelspec": {
   "display_name": "Python 3",
   "language": "python",
   "name": "python3"
  },
  "language_info": {
   "codemirror_mode": {
    "name": "ipython",
    "version": 3
   },
   "file_extension": ".py",
   "mimetype": "text/x-python",
   "name": "python",
   "nbconvert_exporter": "python",
   "pygments_lexer": "ipython3",
   "version": "3.6.8"
  },
  "latex_envs": {
   "LaTeX_envs_menu_present": true,
   "autoclose": true,
   "autocomplete": true,
   "bibliofile": "biblio.bib",
   "cite_by": "apalike",
   "current_citInitial": 1,
   "eqLabelWithNumbers": true,
   "eqNumInitial": 1,
   "hotkeys": {
    "equation": "Ctrl-E",
    "itemize": "Ctrl-I"
   },
   "labels_anchors": false,
   "latex_user_defs": false,
   "report_style_numbering": false,
   "user_envs_cfg": false
  },
  "toc": {
   "base_numbering": 1,
   "nav_menu": {},
   "number_sections": true,
   "sideBar": true,
   "skip_h1_title": false,
   "title_cell": "Table of Contents",
   "title_sidebar": "Contents",
   "toc_cell": false,
   "toc_position": {},
   "toc_section_display": true,
   "toc_window_display": false
  }
 },
 "nbformat": 4,
 "nbformat_minor": 2
}
